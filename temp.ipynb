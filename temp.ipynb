{
 "cells": [
  {
   "cell_type": "code",
   "execution_count": 11,
   "metadata": {},
   "outputs": [
    {
     "name": "stdout",
     "output_type": "stream",
     "text": [
      "Original shape: torch.Size([5000, 32, 32, 3])\n",
      "Padded shape: torch.Size([5000, 256, 256, 3])\n"
     ]
    }
   ],
   "source": [
    "import torch\n",
    "\n",
    "# Assuming 'img' is your tensor of shape (32x32x3)\n",
    "img = torch.rand(5000, 32, 32, 3)\n",
    "\n",
    "# Define the desired output size\n",
    "desired_size = (256, 256, 3)\n",
    "\n",
    "\n",
    "\n",
    "# Pad the tensor\n",
    "padded_img = torch.nn.functional.pad(img, (0, 0, 112, 112, 112,112, 0,0))\n",
    "\n",
    "# Check the shape\n",
    "print(\"Original shape:\", img.shape)\n",
    "print(\"Padded shape:\", padded_img.shape)\n"
   ]
  },
  {
   "cell_type": "code",
   "execution_count": null,
   "metadata": {},
   "outputs": [],
   "source": []
  }
 ],
 "metadata": {
  "kernelspec": {
   "display_name": "machinelearning",
   "language": "python",
   "name": "python3"
  },
  "language_info": {
   "codemirror_mode": {
    "name": "ipython",
    "version": 3
   },
   "file_extension": ".py",
   "mimetype": "text/x-python",
   "name": "python",
   "nbconvert_exporter": "python",
   "pygments_lexer": "ipython3",
   "version": "3.9.16"
  }
 },
 "nbformat": 4,
 "nbformat_minor": 2
}
